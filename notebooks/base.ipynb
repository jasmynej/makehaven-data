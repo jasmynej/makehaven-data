{
 "cells": [
  {
   "cell_type": "code",
   "id": "initial_id",
   "metadata": {
    "collapsed": true,
    "ExecuteTime": {
     "end_time": "2025-08-25T01:12:05.023231Z",
     "start_time": "2025-08-25T01:12:03.635894Z"
    }
   },
   "source": [
    "import pandas as pd\n",
    "from sqlalchemy import create_engine, inspect"
   ],
   "outputs": [],
   "execution_count": 4
  },
  {
   "metadata": {
    "ExecuteTime": {
     "end_time": "2025-08-25T01:10:59.316811Z",
     "start_time": "2025-08-25T01:10:59.305466Z"
    }
   },
   "cell_type": "code",
   "source": [
    "user = 'root'\n",
    "host = 'localhost'\n",
    "port = 3306\n",
    "database = 'makehaven'"
   ],
   "id": "17d371c037f0b5d",
   "outputs": [],
   "execution_count": 2
  },
  {
   "metadata": {
    "ExecuteTime": {
     "end_time": "2025-08-25T01:12:06.776837Z",
     "start_time": "2025-08-25T01:12:06.625568Z"
    }
   },
   "cell_type": "code",
   "source": "engine = create_engine(f\"mysql+pymysql://{user}@{host}:{port}/{database}\")",
   "id": "a439bedb0b76cb33",
   "outputs": [
    {
     "data": {
      "text/plain": [
       "<sqlalchemy.engine.reflection.Inspector at 0x11d942a50>"
      ]
     },
     "execution_count": 5,
     "metadata": {},
     "output_type": "execute_result"
    }
   ],
   "execution_count": 5
  },
  {
   "metadata": {
    "ExecuteTime": {
     "end_time": "2025-08-25T04:07:21.256976Z",
     "start_time": "2025-08-25T04:07:21.245058Z"
    }
   },
   "cell_type": "code",
   "source": [
    "members = pd.read_sql(\"\"\"\n",
    "SELECT * FROM members\n",
    "\"\"\", engine)"
   ],
   "id": "80c0529c0efc6c60",
   "outputs": [],
   "execution_count": 16
  },
  {
   "metadata": {
    "ExecuteTime": {
     "end_time": "2025-08-25T04:03:23.320319Z",
     "start_time": "2025-08-25T04:03:23.316031Z"
    }
   },
   "cell_type": "code",
   "source": "print(members.head(10))",
   "id": "88ce9963eb8ef43c",
   "outputs": [
    {
     "name": "stdout",
     "output_type": "stream",
     "text": [
      "   uid   first_name   last_name    role              pronouns\n",
      "0    2         J.R.       Logan  member                    He\n",
      "1  143         Sean     O'Brien  member                He/Him\n",
      "2  172       Elise       DeVito  member  She/Her/Hers/Herself\n",
      "3  178          Dan        Kops  member            He/Him/His\n",
      "4  667       Shari     Yosinski  member               she/her\n",
      "5  676         Lior    Trestman  member            He/him/his\n",
      "6  689       Julian     Salevan  member             they/them\n",
      "7  745  Christopher  O'Flaherty  member                He him\n",
      "8  845        Doris    Lambertz  member          she/her/hers\n",
      "9  900         John       Riley  member    He Him His Himslef\n"
     ]
    }
   ],
   "execution_count": 13
  },
  {
   "metadata": {},
   "cell_type": "code",
   "outputs": [],
   "execution_count": null,
   "source": "",
   "id": "70bebbd7c8ff0cea"
  }
 ],
 "metadata": {
  "kernelspec": {
   "display_name": "Python 3",
   "language": "python",
   "name": "python3"
  },
  "language_info": {
   "codemirror_mode": {
    "name": "ipython",
    "version": 2
   },
   "file_extension": ".py",
   "mimetype": "text/x-python",
   "name": "python",
   "nbconvert_exporter": "python",
   "pygments_lexer": "ipython2",
   "version": "2.7.6"
  }
 },
 "nbformat": 4,
 "nbformat_minor": 5
}
